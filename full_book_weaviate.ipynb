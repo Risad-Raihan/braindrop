{
 "cells": [
  {
   "cell_type": "code",
   "execution_count": 19,
   "id": "de1fcc75",
   "metadata": {},
   "outputs": [
    {
     "name": "stderr",
     "output_type": "stream",
     "text": [
      "/home/mrittika/.pyenv/versions/3.12.10/lib/python3.12/pty.py:95: DeprecationWarning: This process (pid=13409) is multi-threaded, use of forkpty() may lead to deadlocks in the child.\n",
      "  pid, fd = os.forkpty()\n"
     ]
    },
    {
     "name": "stdout",
     "output_type": "stream",
     "text": [
      "\u001b[31mERROR: pip's dependency resolver does not currently take into account all the packages that are installed. This behaviour is the source of the following dependency conflicts.\n",
      "xformers 0.0.31 requires torch==2.7.1, but you have torch 2.6.0+cpu which is incompatible.\n",
      "opencv-python-headless 4.12.0.88 requires numpy<2.3.0,>=2; python_version >= \"3.9\", but you have numpy 2.3.3 which is incompatible.\n",
      "numba 0.61.2 requires numpy<2.3,>=1.24, but you have numpy 2.3.3 which is incompatible.\u001b[0m\u001b[31m\n",
      "\u001b[0m"
     ]
    }
   ],
   "source": [
    "!pip install -U google-generativeai weaviate-client faiss-cpu numpy rank-bm25 nltk --quiet"
   ]
  },
  {
   "cell_type": "code",
   "execution_count": 20,
   "id": "540fa89b",
   "metadata": {},
   "outputs": [],
   "source": [
    "import os\n",
    "import pickle\n",
    "import numpy as np\n",
    "import google.generativeai as genai\n",
    "import weaviate\n",
    "from weaviate.classes.config import Configure\n",
    "import nltk\n",
    "from rank_bm25 import BM25Okapi\n",
    "from nltk.tokenize import word_tokenize"
   ]
  },
  {
   "cell_type": "code",
   "execution_count": null,
   "id": "750765a5",
   "metadata": {},
   "outputs": [],
   "source": [
    "# ===============================\n",
    "API_KEY = \"GOOGLE_API\"  # <-- replace with your key\n",
    "genai.configure(api_key=API_KEY)\n"
   ]
  },
  {
   "cell_type": "code",
   "execution_count": null,
   "id": "3f48a20e",
   "metadata": {},
   "outputs": [],
   "source": [
    "# ===============================\n",
    "WCS_URL = \"WEAVIATE_URL\"  # <-- replace\n",
    "WCS_API_KEY = \"WEAVIATE_API_KEY\""
   ]
  },
  {
   "cell_type": "code",
   "execution_count": 24,
   "id": "cc057418",
   "metadata": {},
   "outputs": [
    {
     "name": "stderr",
     "output_type": "stream",
     "text": [
      "/tmp/ipykernel_13409/3428761974.py:1: DeprecatedWarning: connect_to_wcs is deprecated as of 4.6.2. \n",
      "This method is deprecated and will be removed in a future release. Use :func:`connect_to_weaviate_cloud` instead.\n",
      "\n",
      "  client = weaviate.connect_to_wcs(\n",
      "/home/mrittika/.pyenv/versions/test/lib/python3.12/site-packages/deprecation.py:260: DeprecationWarning: This method is deprecated and will be removed in a future release. Use `connect_to_weaviate_cloud` instead.\n",
      "  return function(*args, **kwargs)\n",
      "/home/mrittika/.pyenv/versions/test/lib/python3.12/site-packages/weaviate/warnings.py:196: DeprecationWarning: Dep024: You are using the `vectorizer_config` argument in `collection.config.create()`, which is deprecated.\n",
      "            Use the `vector_config` argument instead.\n",
      "            \n",
      "  warnings.warn(\n",
      "/home/mrittika/.pyenv/versions/test/lib/python3.12/site-packages/weaviate/warnings.py:206: DeprecationWarning: Dep025: You are using the `vector_index_config` argument in `collection.config.create()`, which is deprecated.\n",
      "            Use the `vector_config` argument instead defining `vector_index_config` as a sub-argument.\n",
      "            \n",
      "  warnings.warn(\n"
     ]
    }
   ],
   "source": [
    "client = weaviate.connect_to_wcs(\n",
    "    cluster_url=WCS_URL,\n",
    "    auth_credentials=weaviate.auth.AuthApiKey(WCS_API_KEY),\n",
    ")\n",
    "\n",
    "class_name = \"PhysicsChunk\"\n",
    "\n",
    "# Optional: reset collection\n",
    "if client.collections.exists(class_name):\n",
    "    client.collections.delete(class_name)\n",
    "\n",
    "client.collections.create(\n",
    "    class_name,\n",
    "    vectorizer_config=Configure.Vectorizer.none(),  # we provide vectors\n",
    "    vector_index_config=Configure.VectorIndex.hnsw()\n",
    ")\n",
    "\n",
    "collection = client.collections.get(class_name)\n"
   ]
  },
  {
   "cell_type": "code",
   "execution_count": 25,
   "id": "76afdc96",
   "metadata": {},
   "outputs": [],
   "source": [
    "# Step 2. Load file and split into chunks\n",
    "# ===============================\n",
    "file_path = '/home/mrittika/projects/eduRAG/physics_embeddings/Physics/combined_physics.md'\n"
   ]
  },
  {
   "cell_type": "code",
   "execution_count": 26,
   "id": "f1d334fc",
   "metadata": {},
   "outputs": [
    {
     "name": "stdout",
     "output_type": "stream",
     "text": [
      "Total number of chunks: 407\n"
     ]
    }
   ],
   "source": [
    "file_path = '/home/mrittika/projects/eduRAG/physics_embeddings/Physics/combined_physics.md'\n",
    "\n",
    "with open(file_path, 'r', encoding='utf-8') as f:\n",
    "    content = f.read()\n",
    "\n",
    "chunks = [t.strip() for t in content.split('*****') if t.strip()]\n",
    "print(f\"Total number of chunks: {len(chunks)}\")"
   ]
  },
  {
   "cell_type": "code",
   "execution_count": 27,
   "id": "c277f243",
   "metadata": {},
   "outputs": [
    {
     "name": "stderr",
     "output_type": "stream",
     "text": [
      "WARNING: All log messages before absl::InitializeLog() is called are written to STDERR\n",
      "E0000 00:00:1758090263.352122   13409 alts_credentials.cc:93] ALTS creds ignored. Not running on GCP and untrusted ALTS is not enabled.\n"
     ]
    },
    {
     "name": "stdout",
     "output_type": "stream",
     "text": [
      "Embeddings generated.\n"
     ]
    }
   ],
   "source": [
    "# Step 4. Generate Embeddings\n",
    "# ===============================\n",
    "result = genai.embed_content(\n",
    "    model=\"models/gemini-embedding-001\",\n",
    "    content=chunks\n",
    ")\n",
    "embeddings = np.array(result['embedding'], dtype='float32')\n",
    "print(\"Embeddings generated.\")\n"
   ]
  },
  {
   "cell_type": "code",
   "execution_count": 28,
   "id": "6bcb48b2",
   "metadata": {},
   "outputs": [
    {
     "name": "stdout",
     "output_type": "stream",
     "text": [
      "Inserted 407 chunks into Weaviate Cloud.\n"
     ]
    }
   ],
   "source": [
    "for i, (chunk, emb) in enumerate(zip(chunks, embeddings)):\n",
    "    collection.data.insert(\n",
    "        properties={\"text\": chunk},\n",
    "        vector=emb.tolist()\n",
    "    )\n",
    "\n",
    "print(f\"Inserted {len(chunks)} chunks into Weaviate Cloud.\")\n"
   ]
  },
  {
   "cell_type": "code",
   "execution_count": 30,
   "id": "0bb0fa9f",
   "metadata": {},
   "outputs": [
    {
     "name": "stdout",
     "output_type": "stream",
     "text": [
      "\n",
      "--- Hybrid Search Results (Weaviate Cloud) ---\n",
      "Rank 1: ## অধ্যায় 1: ভৌত রাশি এবং তাদের পরিমাপ\n",
      "\n",
      "## 1.2 পদার্থবিজ্ঞানের পরিসর (Scope of Physics)\n",
      "\n",
      "পদার্থবিজ্ঞান যেহেতু বিজ্ঞানের প্রাচীনতম শাখা এবং সবচেয়ে মৌলিক শাখা, শুধু তা-ই নয়, বিজ্ঞানের অন্যান্য শাখা ক...\n",
      "\n",
      "Rank 2: ## অধ্যায় 1: ভৌত রাশি এবং তাদের পরিমাপ\n",
      "\n",
      "## 1.1 পদার্থবিজ্ঞান (Physics)\n",
      "\n",
      "পদার্থবিজ্ঞান বিজ্ঞানের একটা শাখা এবং বলা যেতে পারে এটা হচ্ছে প্রাচীনতম শাখা। তার কারণ অন্য বিজ্ঞানগুলো দানা বাঁধার অনেক আগেই ব...\n",
      "\n",
      "Rank 3: ## অধ্যায় 1: ভৌত রাশি এবং তাদের পরিমাপ\n",
      "\n",
      "## 1.4 পদার্থবিজ্ঞানের উদ্দেশ্য (Objectives of Physics)\n",
      "\n",
      "তোমরা এর মাঝে জেনে গেছ যে পদার্থবিজ্ঞান হচ্ছে বিজ্ঞানের সেই শাখা, যেটি শক্তি এবং বলের উপস্থিতিতে সময়ে...\n",
      "\n",
      "Rank 4: ## অধ্যায় 1: ভৌত রাশি এবং তাদের পরিমাপ\n",
      "\n",
      "## এ অধ্যায় শেষে আমরা-\n",
      "\n",
      "- পদার্থবিজ্ঞানের পরিসর ও ক্রমবিকাশ ব্যাখ্যা করতে পারব।\n",
      "- পদার্থবিজ্ঞান পাঠের উদ্দেশ্য বর্ণনা করতে পারব।\n",
      "- ভৌত রাশি [মান এবং এককসহ] ও ...\n",
      "\n",
      "Rank 5: ## অধ্যায় 1: ভৌত রাশি এবং তাদের পরিমাপ\n",
      "\n",
      "## (Physical Quantities And Their Measurement)\n",
      "\n",
      "![](https://cdn.mathpix.com/cropped/2025_09_16_b1d2de5da62a73f206e3g-006.jpg?height=929&width=1446&top_left_y=6...\n",
      "\n"
     ]
    }
   ],
   "source": [
    "# ===============================\n",
    "query_text = \"পদার্থবিজ্ঞানের শাখা গুলো কি কি ?\"\n",
    "\n",
    "# Get embedding for query from Gemini\n",
    "query_embedding = genai.embed_content(\n",
    "    model=\"models/gemini-embedding-001\",\n",
    "    content=query_text\n",
    ")[\"embedding\"]\n",
    "\n",
    "# Pass BOTH text + vector to hybrid search\n",
    "results = collection.query.hybrid(\n",
    "    query=query_text,\n",
    "    vector=query_embedding,  # <--- this fixes the error\n",
    "    alpha=0.5,               # balance keyword vs vector\n",
    "    limit=5\n",
    ")\n",
    "\n",
    "print(\"\\n--- Hybrid Search Results (Weaviate Cloud) ---\")\n",
    "top_docs = []\n",
    "for rank, obj in enumerate(results.objects):\n",
    "    text_chunk = obj.properties['text']\n",
    "    top_docs.append(text_chunk)\n",
    "    print(f\"Rank {rank+1}: {text_chunk[:200]}...\\n\")\n"
   ]
  },
  {
   "cell_type": "code",
   "execution_count": 31,
   "id": "dae0bf98",
   "metadata": {},
   "outputs": [
    {
     "name": "stdout",
     "output_type": "stream",
     "text": [
      "=== Generated Response ===\n",
      "প্রিয় শিক্ষার্থীরা, আজকের এই প্রশ্নটি খুবই মৌলিক এবং অত্যন্ত গুরুত্বপূর্ণ। পদার্থবিজ্ঞান যেহেতু আমাদের চারপাশের জগৎ এবং মহাবিশ্বকে বোঝার জন্য বিজ্ঞানের সবচেয়ে মৌলিক শাখা, তাই এর পরিসরও সুবিশাল। পঠন-পাঠনের সুবিধার জন্য এবং এর বিশাল জগতকে সহজে বোঝার জন্য, আমরা পদার্থবিজ্ঞানের শাখাগুলোকে প্রধানত দুটি মূল ভাগে ভাগ করে থাকি। এসো, আমরা সেগুলো নিয়ে বিস্তারিত আলোচনা করি:\n",
      "\n",
      "### ১. চিরায়ত পদার্থবিজ্ঞান (Classical Physics)\n",
      "\n",
      "এটি পদার্থবিজ্ঞানের সেই শাখা যা বিংশ শতাব্দীর শুরুর দিকের আগে পর্যন্ত গঠিত হয়েছিল। এটি মূলত আমাদের দৈনন্দিন জীবনের বড় বড় ঘটনাগুলো ব্যাখ্যা করে এবং ম্যাক্রোস্কোপিক (চোখে দেখা যায় এমন) বস্তুর আচরণ নিয়ে কাজ করে। এর অন্তর্ভুক্ত প্রধান শাখাগুলো হলো:\n",
      "\n",
      "*   **বলবিজ্ঞান (Mechanics):** এটি বস্তুর গতি, শক্তি এবং বল নিয়ে আলোচনা করে। একটি পাথর উপরে ছুঁড়লে সেটি কীভাবে মাটিতে পড়ে, গ্রহ-নক্ষত্র কীভাবে ঘোরে, বা একটি গাড়ি কীভাবে চলে – এ সবই বলবিজ্ঞানের আলোচনার বিষয়।\n",
      "*   **শব্দবিজ্ঞান (Acoustics):** শব্দের উৎপত্তি, এর সঞ্চালন এবং এর বিভিন্ন ধর্ম যেমন কম্পাঙ্ক, তীব্রতা ইত্যাদি নিয়ে আলোচনা করা হয় এই শাখায়।\n",
      "*   **তাপ এবং তাপগতি বিজ্ঞান (Heat and Thermodynamics):** তাপশক্তি, তাপমাত্রা, তাপের সঞ্চালন এবং শক্তির এক রূপ থেকে অন্য রূপে রূপান্তর নিয়ে এই শাখা কাজ করে। রেফ্রিজারেটর বা ইঞ্জিন কীভাবে কাজ করে, তা এর মাধ্যমেই বোঝা যায়।\n",
      "*   **বিদ্যুৎ ও চৌম্বক বিজ্ঞান (Electricity and Magnetism):** বিদ্যুৎ প্রবাহ, চৌম্বক ক্ষেত্র এবং এদের পারস্পরিক সম্পর্ক নিয়ে আলোচনা করে এই শাখা। আজকের ইলেকট্রনিক্স এবং আধুনিক প্রযুক্তির একটি বড় ভিত্তি এই বিদ্যুৎ ও চৌম্বক বিজ্ঞানেই।\n",
      "*   **আলোক বিজ্ঞান (Optics):** আলোর ধর্ম, এর প্রতিফলন, প্রতিসরণ, বিচ্ছুরণ এবং আলোর ব্যবহার করে বিভিন্ন যন্ত্র যেমন লেন্স, ক্যামেরা, টেলিস্কোপ ইত্যাদি তৈরির কৌশল নিয়ে আলোচনা করা হয়।\n",
      "\n",
      "### ২. আধুনিক পদার্থবিজ্ঞান (Modern Physics)\n",
      "\n",
      "বিংশ শতাব্দীর শুরুর দিক থেকে গড়ে ওঠা এই শাখা কোয়ান্টাম বলবিজ্ঞান এবং আপেক্ষিক তত্ত্বের মতো নতুন ধারণা ব্যবহার করে পদার্থের ক্ষুদ্রতম কণা (যেমন পরমাণুর ভেতরের কণা) এবং মহাবিশ্বের বৃহৎ কাঠামোকে ব্যাখ্যা করে। এর প্রধান শাখাগুলো হলো:\n",
      "\n",
      "*   **আণবিক ও পারমাণবিক পদার্থবিজ্ঞান (Atomic and Molecular Physics):** এটি অণু এবং পরমাণুর গঠন, তাদের ভেতরের ইলেকট্রন বিন্যাস, তাদের আচরণ এবং শক্তিস্তর নিয়ে আলোচনা করে।\n",
      "*   **নিউক্লীয় পদার্থবিজ্ঞান (Nuclear Physics):** এই শাখায় পরমাণুর নিউক্লিয়াস, তার গঠন এবং নিউক্লিয়াসের ভেতরের কণাগুলো (যেমন প্রোটন, নিউট্রন) নিয়ে গবেষণা করা হয়। পারমাণবিক শক্তি বা নিউক্লীয় বোমা তৈরির মূল ভিত্তি এই শাখাতেই।\n",
      "*   **কঠিন অবস্থার পদার্থবিজ্ঞান (Solid State Physics):** কঠিন পদার্থের গঠন, তাদের যান্ত্রিক, তাপীয়, বৈদ্যুতিক এবং চৌম্বক ধর্ম নিয়ে আলোচনা করে এই শাখা। আমাদের দৈনন্দিন জীবনের কম্পিউটার চিপ, সেমিকন্ডাক্টর বা বিভিন্ন ইলেকট্রনিক্স ডিভাইসের মূল ভিত্তি এই শাখার গবেষণার ফল।\n",
      "*   **কণা পদার্থবিজ্ঞান (Particle Physics):** এটি পদার্থের ক্ষুদ্রতম বা মৌলিক কণা, যেমন ইলেকট্রন, প্রোটন, নিউট্রন এবং তাদের চেয়েও ছোট মৌলিক কণাগুলোর বৈশিষ্ট্য ও পারস্পরিক মিথস্ক্রিয়া নিয়ে গবেষণা করে।\n",
      "\n",
      "### অন্যান্য আন্তঃবিষয়ক শাখা (Interdisciplinary Branches)\n",
      "\n",
      "পদার্থবিজ্ঞান যেহেতু বিজ্ঞানের মৌলিক ভিত্তি, তাই এটি বিজ্ঞানের অন্যান্য শাখার সাথে মিশে আরও অনেক নতুন এবং আকর্ষণীয় শাখা তৈরি করেছে। এগুলো পদার্থবিজ্ঞানের বিশাল পরিসরকে আরও প্রসারিত করে। যেমন:\n",
      "\n",
      "*   **অ্যাস্ট্রোফিজিক্স (Astrophysics):** জ্যোতির্বিজ্ঞান ও পদার্থবিজ্ঞান মিলে মহাকাশের বিভিন্ন বস্তু, যেমন নক্ষত্র, গ্রহ, গ্যালাক্সি ইত্যাদির ভৌত ধর্ম নিয়ে আলোচনা করে।\n",
      "*   **বায়োফিজিক্স (Biophysics):** জীববিজ্ঞান এবং পদার্থবিজ্ঞান ব্যবহার করে জীবদেহের বিভিন্ন প্রক্রিয়া (যেমন ডিএনএ-এর গঠন, পেশীর সংকোচন) ভৌত নীতির আলোকে ব্যাখ্যা করা হয়।\n",
      "*   **কেমিক্যাল ফিজিক্স (Chemical Physics):** রসায়ন শাখার সাথে পদার্থবিজ্ঞান শাখার সমন্বয়ে পদার্থের রাসায়নিক প্রক্রিয়াগুলো ভৌত দৃষ্টিকোণ থেকে বিশ্লেষণ করা হয়।\n",
      "*   **জিওফিজিক্স (Geophysics):** ভূ-তত্ত্বের সাথে পদার্থবিজ্ঞান ব্যবহার করে পৃথিবীর গঠন, তার ভেতরকার প্রক্রিয়া (যেমন ভূমিকম্প, আগ্নেয়গিরি) এবং ভূ-চৌম্বকত্ব নিয়ে গবেষণা করা হয়।\n",
      "*   **মেডিকেল ফিজিক্স (Medical Physics):** চিকিৎসাবিজ্ঞানে পদার্থবিজ্ঞানের নীতি ও কৌশল ব্যবহার করে রোগ নির্ণয় (যেমন এক্স-রে, এমআরআই) এবং চিকিৎসার (যেমন রেডিয়েশন থেরাপি) পদ্ধতি উন্নত করা হয়।\n",
      "\n",
      "দেখলে তো, পদার্থবিজ্ঞানের জগতটা কত বড় আর কত বিচিত্র! এটি শুধু আমাদের চারপাশের জগৎকে বোঝায় না, বরং নতুন নতুন প্রযুক্তি তৈরি করে আমাদের জীবনকে আরও উন্নত করতে সাহায্য করে। আশা করি তোমরা এই বিষয়গুলো ভালোভাবে বুঝতে পেরেছো।\n"
     ]
    }
   ],
   "source": [
    "# ===============================\n",
    "# Step 7. Generate Answer with Gemini\n",
    "# ===============================\n",
    "top_document = top_docs[0] if top_docs else \"\"\n",
    "\n",
    "response_prompt = f\"\"\"\n",
    "তুমি একজন বাংলা পদার্থবিজ্ঞানের শিক্ষক। এই প্রসঙ্গ ব্যবহার করে প্রশ্নটির উত্তর দাও:\n",
    "\n",
    "প্রশ্ন: {query_text}\n",
    "\n",
    "প্রসঙ্গ: {top_document}\n",
    "\n",
    "উত্তর বাংলায় দাও এবং শিক্ষার্থীদের জন্য সহজবোধ্য করে ব্যাখ্যা করো।\n",
    "\"\"\"\n",
    "\n",
    "try:\n",
    "    response = genai.GenerativeModel('gemini-2.5-flash').generate_content(response_prompt)\n",
    "    print(\"=== Generated Response ===\")\n",
    "    print(response.text)\n",
    "except Exception as e:\n",
    "    print(f\"Error generating response: {e}\")"
   ]
  }
 ],
 "metadata": {
  "kernelspec": {
   "display_name": "test",
   "language": "python",
   "name": "python3"
  },
  "language_info": {
   "codemirror_mode": {
    "name": "ipython",
    "version": 3
   },
   "file_extension": ".py",
   "mimetype": "text/x-python",
   "name": "python",
   "nbconvert_exporter": "python",
   "pygments_lexer": "ipython3",
   "version": "3.12.10"
  }
 },
 "nbformat": 4,
 "nbformat_minor": 5
}
